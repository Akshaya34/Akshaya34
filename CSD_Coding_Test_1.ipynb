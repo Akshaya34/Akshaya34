{
  "nbformat": 4,
  "nbformat_minor": 0,
  "metadata": {
    "colab": {
      "name": "CSD Coding Test-1",
      "provenance": [],
      "authorship_tag": "ABX9TyOsTLlWdMvbWYxkWZen6iFJ",
      "include_colab_link": true
    },
    "kernelspec": {
      "name": "python3",
      "display_name": "Python 3"
    },
    "language_info": {
      "name": "python"
    }
  },
  "cells": [
    {
      "cell_type": "markdown",
      "metadata": {
        "id": "view-in-github",
        "colab_type": "text"
      },
      "source": [
        "<a href=\"https://colab.research.google.com/github/Akshaya34/Akshaya34/blob/main/CSD_Coding_Test_1.ipynb\" target=\"_parent\"><img src=\"https://colab.research.google.com/assets/colab-badge.svg\" alt=\"Open In Colab\"/></a>"
      ]
    },
    {
      "cell_type": "code",
      "metadata": {
        "colab": {
          "base_uri": "https://localhost:8080/"
        },
        "id": "i621W_BnK6FL",
        "outputId": "e5e7004a-f893-4631-e013-fa6601e6e84d"
      },
      "source": [
        "def fact(n):\n",
        "  if n==0:\n",
        "    return 1\n",
        "  else:\n",
        "    return n*fact(n-1)\n",
        "\n",
        "N = int(input(\"Total number of screws: \"))\n",
        "K = int(input(\"Number of defective screws: \"))\n",
        "D = int(input(\"Number of screws picked: \"))\n",
        "\n",
        "prob = (fact(N-K)/(fact((N-K)-D)*fact(D)))/(fact(N)/((fact(N-D))*fact(D)))\n",
        "\n",
        "print(\"The probability of picking 2 perfect screws is: \", prob)"
      ],
      "execution_count": 2,
      "outputs": [
        {
          "output_type": "stream",
          "name": "stdout",
          "text": [
            "Total number of screws: 10\n",
            "Number of defective screws: 3\n",
            "Number of screws picked: 2\n",
            "The probability of picking 2 perfect screws is:  0.4666666666666667\n"
          ]
        }
      ]
    },
    {
      "cell_type": "code",
      "metadata": {
        "colab": {
          "base_uri": "https://localhost:8080/"
        },
        "id": "MWFtqMZpLUdQ",
        "outputId": "aeef1c17-c190-45ed-c7f9-ab9f9d2a9c67"
      },
      "source": [
        "def fact(n):\n",
        "  if n==0:\n",
        "    return 1\n",
        "  else:\n",
        "    return n*fact(n-1)\n",
        "\n",
        "N = int(input(\"Total number of screws: \"))\n",
        "K = int(input(\"Number of defective screws: \"))\n",
        "D = int(input(\"Number of screws picked: \"))\n",
        "\n",
        "prob = (fact(N-K)/(fact((N-K)-D)*fact(D)))/(fact(N)/((fact(N-D))*fact(D)))\n",
        "\n",
        "print(\"The probability of picking 2 perfect screws is: \", prob)"
      ],
      "execution_count": 3,
      "outputs": [
        {
          "output_type": "stream",
          "name": "stdout",
          "text": [
            "Total number of screws: 15\n",
            "Number of defective screws: 4\n",
            "Number of screws picked: 2\n",
            "The probability of picking 2 perfect screws is:  0.5238095238095238\n"
          ]
        }
      ]
    }
  ]
}
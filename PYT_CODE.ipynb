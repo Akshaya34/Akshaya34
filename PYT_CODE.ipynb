{
  "nbformat": 4,
  "nbformat_minor": 0,
  "metadata": {
    "colab": {
      "name": "PYT CODE",
      "provenance": [],
      "authorship_tag": "ABX9TyMcJBh7Ph7NhEWi2K75KYok",
      "include_colab_link": true
    },
    "kernelspec": {
      "name": "python3",
      "display_name": "Python 3"
    },
    "language_info": {
      "name": "python"
    }
  },
  "cells": [
    {
      "cell_type": "markdown",
      "metadata": {
        "id": "view-in-github",
        "colab_type": "text"
      },
      "source": [
        "<a href=\"https://colab.research.google.com/github/Akshaya34/Akshaya34/blob/main/PYT_CODE.ipynb\" target=\"_parent\"><img src=\"https://colab.research.google.com/assets/colab-badge.svg\" alt=\"Open In Colab\"/></a>"
      ]
    },
    {
      "cell_type": "code",
      "metadata": {
        "colab": {
          "base_uri": "https://localhost:8080/"
        },
        "id": "_XIqydpgfDKC",
        "outputId": "0966ae2b-88a5-40db-a731-d312ff9030e0"
      },
      "source": [
        "def fact(n):\n",
        "  if n==0:\n",
        "    return 1\n",
        "  else:\n",
        "     return n*fact(n-1)\n",
        "\n",
        "N = int(input(\"Total number of screws: \"))\n",
        "K = int(input(\"Number of defective screws: \"))\n",
        "D = int(input(\"Number of screws picked: \"))\n",
        "\n",
        "prob = (fact(N-K)/(fact((N-K)-D)*fact(D)))/(fact(N)/((fact(N-D))*fact(D)))\n",
        "\n",
        "print(\"The probability of picking 2 perfect screws is: \", prob)\n",
        "  "
      ],
      "execution_count": null,
      "outputs": [
        {
          "name": "stdout",
          "output_type": "stream",
          "text": [
            "Total number of screws: 200\n",
            "Number of defective screws: 300\n"
          ]
        }
      ]
    },
    {
      "cell_type": "code",
      "metadata": {
        "id": "g9O3JMSxhcDT"
      },
      "source": [
        ""
      ],
      "execution_count": null,
      "outputs": []
    }
  ]
}
{
  "nbformat": 4,
  "nbformat_minor": 0,
  "metadata": {
    "colab": {
      "name": "121910101034",
      "provenance": [],
      "authorship_tag": "ABX9TyN8SN0PHrQ409+a/dje7B53",
      "include_colab_link": true
    },
    "kernelspec": {
      "name": "python3",
      "display_name": "Python 3"
    },
    "language_info": {
      "name": "python"
    }
  },
  "cells": [
    {
      "cell_type": "markdown",
      "metadata": {
        "id": "view-in-github",
        "colab_type": "text"
      },
      "source": [
        "<a href=\"https://colab.research.google.com/github/Akshaya34/Akshaya34/blob/main/121910101034.ipynb\" target=\"_parent\"><img src=\"https://colab.research.google.com/assets/colab-badge.svg\" alt=\"Open In Colab\"/></a>"
      ]
    },
    {
      "cell_type": "code",
      "metadata": {
        "colab": {
          "base_uri": "https://localhost:8080/"
        },
        "id": "8d6Zwhoy5N8Z",
        "outputId": "85e26865-3164-4551-aa78-73157490c3cc"
      },
      "source": [
        "A={1,2,3,4,5}\n",
        "B={5,6,7}\n",
        "#print(2 in A)\n",
        "type(2 in A)\n"
      ],
      "execution_count": null,
      "outputs": [
        {
          "output_type": "execute_result",
          "data": {
            "text/plain": [
              "bool"
            ]
          },
          "metadata": {},
          "execution_count": 2
        }
      ]
    },
    {
      "cell_type": "code",
      "metadata": {
        "colab": {
          "base_uri": "https://localhost:8080/"
        },
        "id": "D6BBRxbO5_OR",
        "outputId": "2179f20d-05d0-43ff-d039-b8cd3a42562a"
      },
      "source": [
        "A={1,2,3,4,5}\n",
        "B={2,5}\n",
        "B.issubset(A)"
      ],
      "execution_count": null,
      "outputs": [
        {
          "output_type": "execute_result",
          "data": {
            "text/plain": [
              "True"
            ]
          },
          "metadata": {},
          "execution_count": 5
        }
      ]
    },
    {
      "cell_type": "code",
      "metadata": {
        "colab": {
          "base_uri": "https://localhost:8080/"
        },
        "id": "LMqWxPW_6aLj",
        "outputId": "2c80de39-0d7c-4fb7-e134-c3687d2c907d"
      },
      "source": [
        "def is_subset(A,B):\n",
        "  for e in A:\n",
        "    if e in B:\n",
        "      pass\n",
        "   \n",
        "    else:\n",
        "     \n",
        "      return False\n",
        " \n",
        "  return True\n",
        "     \n",
        "      #A={1,2,3,4,5}\n",
        "      #B={5,6,7}\n",
        "     \n",
        "sub = is_subset({1,2,3,4,5},{5,6,7})\n",
        "     \n",
        "print(sub)\n",
        "      \n"
      ],
      "execution_count": null,
      "outputs": [
        {
          "output_type": "stream",
          "name": "stdout",
          "text": [
            "False\n"
          ]
        }
      ]
    },
    {
      "cell_type": "code",
      "metadata": {
        "colab": {
          "base_uri": "https://localhost:8080/"
        },
        "id": "2jAS2VEK6piY",
        "outputId": "82cc4521-9756-4a5b-a559-86c7dafbb4b0"
      },
      "source": [
        " import numpy as np\n",
        "\n",
        "uni = set(np.arange(10))\n",
        "\n",
        " A = set(np.arange(0,9,2))\n",
        " \n",
        " B = set(np.arange(0,9,3))\n",
        " \n",
        " print(\"\\nUniversal Set:\", uni)\n",
        " print(\"\\nSet A:\",A)\n",
        " print(\"\\nSet B:\",B)"
      ],
      "execution_count": null,
      "outputs": [
        {
          "output_type": "stream",
          "name": "stdout",
          "text": [
            "\n",
            "Universal Set: {0, 1, 2, 3, 4, 5, 6, 7, 8, 9}\n",
            "\n",
            "Set A: {0, 2, 4, 6, 8}\n",
            "\n",
            "Set B: {0, 3, 6}\n"
          ]
        }
      ]
    },
    {
      "cell_type": "code",
      "metadata": {
        "colab": {
          "base_uri": "https://localhost:8080/"
        },
        "id": "MW8Ddjdt-Pd_",
        "outputId": "7d4bdf92-d77b-4b19-ad8d-0bef9ef150a3"
      },
      "source": [
        "import numpy as np\n",
        "\n",
        "uni = set(np.arange(10))\n",
        "\n",
        "A = set(np.arange(0,9,2))\n",
        " \n",
        "B = set(np.arange(0,9,3))\n",
        " \n",
        "print(\"\\nUniversal Set:\", uni)\n",
        "print(\"\\nSet A:\",A)\n",
        "print(\"\\nSet B:\",B)\n",
        "\n",
        "print(\"A U B: \",A.union(B))"
      ],
      "execution_count": null,
      "outputs": [
        {
          "output_type": "stream",
          "name": "stdout",
          "text": [
            "\n",
            "Universal Set: {0, 1, 2, 3, 4, 5, 6, 7, 8, 9}\n",
            "\n",
            "Set A: {0, 2, 4, 6, 8}\n",
            "\n",
            "Set B: {0, 3, 6}\n",
            "A U B:  {0, 2, 3, 4, 6, 8}\n"
          ]
        }
      ]
    },
    {
      "cell_type": "code",
      "metadata": {
        "colab": {
          "base_uri": "https://localhost:8080/"
        },
        "id": "MIYM7DjwFb7u",
        "outputId": "781b6c38-a1fa-455f-d649-1c1b9d18af72"
      },
      "source": [
        "import numpy as np\n",
        "U=set(np.arange(10))\n",
        "A=set(np.arange(0,9,2))\n",
        "B=set(np.arange(0,9,3))\n",
        "P= A.union(B)\n",
        "Q=uni.difference(P)\n",
        "S=uni.difference(B)\n",
        "R=uni.difference(A)\n",
        "T=R.intersection(S)\n",
        "if Q==T:\n",
        " print(\"True\")\n",
        "else:\n",
        "  print(\"false\")   "
      ],
      "execution_count": null,
      "outputs": [
        {
          "output_type": "stream",
          "name": "stdout",
          "text": [
            "True\n"
          ]
        }
      ]
    },
    {
      "cell_type": "code",
      "metadata": {
        "colab": {
          "base_uri": "https://localhost:8080/"
        },
        "id": "UFeWbTDPFm_9",
        "outputId": "1ae67bba-aa64-4229-cbd6-d6faab78bfd8"
      },
      "source": [
        "A={1,2,3,4,5}\n",
        "B={5,6,7}\n",
        "#print(2 in A)\n",
        "type(A)\n"
      ],
      "execution_count": null,
      "outputs": [
        {
          "output_type": "execute_result",
          "data": {
            "text/plain": [
              "set"
            ]
          },
          "metadata": {},
          "execution_count": 9
        }
      ]
    },
    {
      "cell_type": "code",
      "metadata": {
        "colab": {
          "base_uri": "https://localhost:8080/"
        },
        "id": "IVeNabzmVLke",
        "outputId": "6cd1a774-a593-4432-9ec0-7d4bd57665d5"
      },
      "source": [
        "import numpy as np\n",
        "\n",
        "uni = set(np.arange(10))\n",
        "\n",
        "A = set(np.arange(0,9,2))\n",
        " \n",
        "B = set(np.arange(0,9,3))\n",
        " \n",
        "print(\"\\nUniversal Set:\", uni)\n",
        "print(\"\\nSet A:\",A)\n",
        "print(\"\\nSet B:\",B)\n",
        "\n",
        "print(\"\\nA U B: \",A.union(B))\n",
        "print(\"\\nA n B: \",A.intersection(B))\n",
        "print(\"\\nA - B: \",A.difference(B))\n",
        "print(\"\\nA: \",A.intersection(B))"
      ],
      "execution_count": null,
      "outputs": [
        {
          "output_type": "stream",
          "name": "stdout",
          "text": [
            "\n",
            "Universal Set: {0, 1, 2, 3, 4, 5, 6, 7, 8, 9}\n",
            "\n",
            "Set A: {0, 2, 4, 6, 8}\n",
            "\n",
            "Set B: {0, 3, 6}\n",
            "\n",
            "A U B:  {0, 2, 3, 4, 6, 8}\n",
            "\n",
            "A n B:  {0, 6}\n",
            "\n",
            "A - B:  {8, 2, 4}\n",
            "\n",
            "A:  {0, 6}\n"
          ]
        }
      ]
    },
    {
      "cell_type": "code",
      "metadata": {
        "colab": {
          "base_uri": "https://localhost:8080/"
        },
        "id": "_oqkoxoDWM9C",
        "outputId": "af7cbad3-b307-4d85-87c9-cf97fc90198c"
      },
      "source": [
        "A={1,2,3,4,5}\n",
        "B={2,5}\n",
        "A.issubset(B)"
      ],
      "execution_count": null,
      "outputs": [
        {
          "output_type": "execute_result",
          "data": {
            "text/plain": [
              "False"
            ]
          },
          "metadata": {},
          "execution_count": 18
        }
      ]
    },
    {
      "cell_type": "code",
      "metadata": {
        "colab": {
          "base_uri": "https://localhost:8080/"
        },
        "id": "b4yQ0yGJQ4Y8",
        "outputId": "b088d45d-3792-4b3b-c303-6dc35a160273"
      },
      "source": [
        "def card_probability(fav,T_Outcome):\n",
        " prob=(fav/T_Outcome)*100\n",
        " return prob\n",
        "Red_Hearts=13\n",
        "Sample_Size=52\n",
        "Face_cards=12\n",
        "prob_RedHearts = card_probability(Red_Hearts,Sample_Size)\n",
        "print(\"The answer is:\",prob_RedHearts,\"%\")\n",
        "prob_Facecards= round(card_probability(Face_cards,Sample_Size),2)\n",
        "print(\"\\nThe answer for face cards is:\",prob_Facecards,\"%\")"
      ],
      "execution_count": 28,
      "outputs": [
        {
          "output_type": "stream",
          "name": "stdout",
          "text": [
            "The answer is: 25.0 %\n",
            "\n",
            "The answer for face cards is: 23.08 %\n"
          ]
        }
      ]
    },
    {
      "cell_type": "code",
      "metadata": {
        "colab": {
          "base_uri": "https://localhost:8080/"
        },
        "id": "upp98JlkT9iA",
        "outputId": "b5180f5d-3bd0-4192-e350-006181ec4e97"
      },
      "source": [
        "# A:event of getting odd number\n",
        "# B:event of getting less than 4\n",
        "S={1,2,3,4,5,6}\n",
        "A={1,3,5}\n",
        "B={1,2,3}\n",
        "\n",
        "#probability=(event_outcome/sample_space)\n",
        "#P(A U B)=(|A|+|B|-|A n B)/|S|\n",
        "prob=(len(A)+len(B)-len(A.intersection(B)))/len(S)\n",
        "print(\"the answer is:\",round((prob),2))"
      ],
      "execution_count": 30,
      "outputs": [
        {
          "output_type": "stream",
          "name": "stdout",
          "text": [
            "the answer is: 0.67\n"
          ]
        }
      ]
    },
    {
      "cell_type": "code",
      "metadata": {
        "id": "ujQoOocMdOBP"
      },
      "source": [
        "def card_probability(fav,T_Outcome):\n",
        "  prob=(fav/T_Outcome)\n",
        "  return prob\n",
        "  Red_Hearts=13\n",
        "  Face_Cards=12\n",
        "  Queen_Hearts=1\n",
        "  Sample_Size=52\n",
        "  \n",
        "  prob_RedHearts=card_probability(Red_Hearts,Sample_Size)\n",
        "  print(\"The answer is\",prob_RedHearts)\n",
        "  \n",
        "  prob_Facecards= round(card_probability(Face_Cards,Sample_Size),2)\n",
        "  print(\"The answer is\",prob_Facecards)\n",
        "\n",
        "  prob_QueenHearts= round(card_probability(Queen_Hearts,Sample_Size),2)\n",
        "  print(\"The answer is\",prob_QueenHearts)\n"
      ],
      "execution_count": 39,
      "outputs": []
    }
  ]
}